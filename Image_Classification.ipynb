{
  "nbformat": 4,
  "nbformat_minor": 0,
  "metadata": {
    "colab": {
      "provenance": [],
      "mount_file_id": "1chKxQj26U_wsBp6G-Pu4_PAsr7ewmcWr",
      "authorship_tag": "ABX9TyMfyWm3sVYYUUjr6NJHuwAQ",
      "include_colab_link": true
    },
    "kernelspec": {
      "name": "python3",
      "display_name": "Python 3"
    },
    "language_info": {
      "name": "python"
    }
  },
  "cells": [
    {
      "cell_type": "markdown",
      "metadata": {
        "id": "view-in-github",
        "colab_type": "text"
      },
      "source": [
        "<a href=\"https://colab.research.google.com/github/jonamadk/Image-Classification/blob/develop/Image_Classification.ipynb\" target=\"_parent\"><img src=\"https://colab.research.google.com/assets/colab-badge.svg\" alt=\"Open In Colab\"/></a>"
      ]
    },
    {
      "cell_type": "markdown",
      "source": [
        "Image Classification"
      ],
      "metadata": {
        "id": "B2UYBBsc6yyY"
      }
    },
    {
      "cell_type": "code",
      "source": [],
      "metadata": {
        "id": "PuzGCxjU64CT"
      },
      "execution_count": null,
      "outputs": []
    }
  ]
}